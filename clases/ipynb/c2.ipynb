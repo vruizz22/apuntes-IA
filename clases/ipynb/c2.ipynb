{
 "cells": [
  {
   "cell_type": "markdown",
   "metadata": {},
   "source": [
    "# Intro al razonamiento deductivo Automatico\n",
    "\n",
    "## Que es la Inteligencia Artificial?\n",
    "\n",
    "La IA fue invetado por John McCarthy en 1955 hoy emprende muchas sub areas\n",
    "\n",
    "* Planificacion y Busqueda Heuristica\n",
    "* Representacion logica del conocimiento y Razonamiento\n",
    "* Procesamiento de Lenguaje Natural\n",
    "* Vision Por Computador\n",
    "* Aprendizaje Automatico\n",
    "\n",
    "**Can Machines think?** (Allan Turing 1950)\n",
    "\n",
    "\n",
    "### Test de Turing\n",
    "\n",
    "Consiste en que una persona interactua con una maquina y si no puede distinguir si es una maquina o una persona entonces la maquina es inteligente.\n",
    "\n",
    "## Psicologia del pensamiento: Sistema 1 y 2\n",
    "\n",
    "* Sistema 1: Aquellas conculsiones que nuestro cerebo parecer en forma automatica (sin esfuerzo consciente)\n",
    "* Aquellas conclusiones que nos cuesta obtener (esfuerzo consciente)\n",
    "\n",
    "## Razonamiento Deductivo (Sistema 2)\n",
    "\n",
    "\n",
    "\n",
    "\n",
    "\n",
    "\n",
    "\n"
   ]
  }
 ],
 "metadata": {
  "kernelspec": {
   "display_name": "Python 3",
   "language": "python",
   "name": "python3"
  },
  "language_info": {
   "name": "python",
   "version": "3.11.9"
  }
 },
 "nbformat": 4,
 "nbformat_minor": 2
}
