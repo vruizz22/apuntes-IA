{
 "cells": [
  {
   "cell_type": "markdown",
   "metadata": {},
   "source": [
    "# Intro al razonamiento y clingo"
   ]
  },
  {
   "cell_type": "markdown",
   "metadata": {},
   "source": [
    "## ASP (Answer Set Programming)\n",
    "\n",
    "Tipo de programacion logica que usa un **lenguaje declarativo** (lenguaje de ordenes, que describe el problema sin ir a la logica como la progrmacion imperativa) para la **resolucion de problemas de busqueda dificiles**\n",
    "\n",
    "Los programas de ASP se contruyen a partir de reglas logicas\n",
    "\n",
    "Las reglas expresan deducciones o restricciones que se deben cumplir sobre lo deducido por el programa\n",
    "\n",
    "Aquello que se deduce de un programa se le llama **Modelo**\n",
    "\n",
    "A esos modelos se les llama **Answer sets**\n",
    "\n"
   ]
  },
  {
   "cell_type": "markdown",
   "metadata": {},
   "source": [
    "## Reglas basicas (definicion matematica)\n",
    "\n",
    "Una regla en programacion logica es un objeto de la forma:\n",
    "\n",
    "head <- body\n",
    "\n",
    "donde Head y Body son conjuntos de **atomos**. Esta regla indica que si Body **se encuentra en el modelo**, entonces Head **debe estar en el modelo**.\n",
    "\n",
    "Ejemplo:\n",
    "\n",
    "$$\n",
    "\\{u\\} \\leftarrow \\{t, r\\}\n",
    "$$\n",
    "\n",
    "en clingo esta regla se escribe como:\n",
    "\n",
    "```\n",
    "u :- t, r.\n",
    "```\n",
    "\n",
    "signfica que si **t y r se encuentran en el modelo**, entonces **u debe estar en el modelo**"
   ]
  },
  {
   "cell_type": "markdown",
   "metadata": {},
   "source": [
    "## Atomos\n",
    "\n",
    "Sintacticamente un atomo es de la forma:\n",
    "* p, donde p es un string que comienza con minuscula.\n",
    "* p(c1,c2,...,cn), donde p es un string que comienza con minuscula y que se llama **predicado** y c1, c2, ..., cn son **constantes**. Cada constante es un string que comienza con minuscula."
   ]
  },
  {
   "cell_type": "markdown",
   "metadata": {},
   "source": [
    "## Hechos\n",
    "\n",
    "Un hecho en progra logica es una regla cuyo **Tail** es vacio\n",
    "\n",
    "En clingo se ven como\n",
    "\n",
    "```\n",
    "q.\n",
    "```"
   ]
  },
  {
   "cell_type": "markdown",
   "metadata": {},
   "source": [
    "## Que es un programa basico?\n",
    "\n",
    "Un programa es un conjunto de reglas basicas"
   ]
  },
  {
   "cell_type": "markdown",
   "metadata": {},
   "source": [
    "## Modelo\n",
    "\n",
    "Informalmente, un modelo contiene lo que se **deduce** de un programa.\n",
    "\n",
    "Para construir un modelo $M$ de un programa basico $ \\Pi $:\n",
    "\n",
    "1. Agregamos todos los hechos del programa $ \\Pi $ a $M$\n",
    "2. Si una regla $ Head \\leftarrow Tail $ en $ \\Pi $ que cumple:\n",
    "a. Head no esta contenido en M.\n",
    "b. Todos los elementos de Tail estan contenidos en M.\n",
    "\n"
   ]
  },
  {
   "cell_type": "markdown",
   "metadata": {},
   "source": []
  }
 ],
 "metadata": {
  "kernelspec": {
   "display_name": "Python 3",
   "language": "python",
   "name": "python3"
  },
  "language_info": {
   "name": "python",
   "version": "3.11.9"
  }
 },
 "nbformat": 4,
 "nbformat_minor": 2
}
